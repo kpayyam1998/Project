{
 "cells": [
  {
   "cell_type": "code",
   "execution_count": 185,
   "metadata": {},
   "outputs": [],
   "source": [
    "import json\n",
    "\n",
    "# Provide the correct file path to open your JSON file\n",
    "file_path = \"../Data/company_data.json\"\n",
    "\n",
    "# Open the file in read mode\n",
    "with open(file_path, 'r') as file:\n",
    "    # Load the JSON data from the file\n",
    "    data = json.load(file)\n",
    "#res"
   ]
  },
  {
   "cell_type": "code",
   "execution_count": 186,
   "metadata": {},
   "outputs": [],
   "source": [
    "def dict_content(company_data):   \n",
    "    home=dict(company_data['pages'][0])\n",
    "\n",
    "    about=dict(company_data['pages'][1])\n",
    "\n",
    "    publications=dict(company_data['pages'][2])\n",
    "\n",
    "    contacts=dict(company_data['pages'][3])\n",
    "    company_info = {\n",
    "        \"businessName\": company_data[\"businessName\"],\n",
    "        \"Country\": company_data[\"Country\"],\n",
    "        \"product_type\": company_data[\"product_type\"],\n",
    "        \"business_info\": company_data[\"business_info\"]\n",
    "    }\n",
    "    # company_data=[]\n",
    "    # for i in company_data:\n",
    "    #     company_data.append(dict(i,company_data[i]))\n",
    "    final_data=[home,about,publications,contacts,]\n",
    "    return final_data,company_info\n",
    "\n",
    "    "
   ]
  },
  {
   "cell_type": "code",
   "execution_count": 187,
   "metadata": {},
   "outputs": [],
   "source": [
    "# Prompt Template\n",
    "import os\n",
    "from dotenv import load_dotenv\n",
    "from langchain.chains import LLMChain\n",
    "from langchain.llms import OpenAI\n",
    "from langchain.prompts import PromptTemplate\n",
    "load_dotenv()\n",
    "\n",
    "key=os.getenv(\"OPENAI_API_KEY\")\n",
    "model=OpenAI(api_key=key)\n",
    "\n",
    "# load data\n",
    "medical_info,business_info=dict_content(data)\n",
    "\n",
    "about=medical_info[1]\n",
    "about['company_name'] = business_info['businessName']"
   ]
  },
  {
   "cell_type": "code",
   "execution_count": 208,
   "metadata": {},
   "outputs": [],
   "source": [
    "response_format={\n",
    "  \"meta_title\": \"\",\n",
    "  \"meta_description\": \"\",\n",
    "  \"h1_title\": \"\",\n",
    "  \"h1_content\": \"\",\n",
    "  \"h2_title\": \"\",\n",
    "  \"h2_content\": \"\",\n",
    "  \"leading_sentence\": \"Fill the information based on the input\",\n",
    "}"
   ]
  },
  {
   "cell_type": "code",
   "execution_count": 209,
   "metadata": {},
   "outputs": [],
   "source": [
    "template_format=\"\"\"\n",
    "            {about}\n",
    "            ###########################\n",
    "            meta_title:  company name from input - provoide suitable title \n",
    "            meta_description: About Description which should be more informative 100-120 words\n",
    "            h1_title: Make one title based on the content\n",
    "            h1_content: Descripbe about the title based on the input(60-100 words)\n",
    "            h2_title:  Title should be unique and intract when the user see (10-40 words)\n",
    "            h2_content: Suitable content based on the above input and Explore case studies (60-100 words)\n",
    "            leading_sentence: Write short description about Whole content information which i give above.\n",
    "            Sample response format i have shared here\n",
    "            {response_format}\n",
    "            ##########################\n",
    "            Response should be json format\n",
    "            \"\"\"\n",
    "\n",
    "\n",
    "prompt = PromptTemplate(\n",
    "    input_variables=[\"template_format\",\"response_format\"],\n",
    "    template=f\"\"\" Provide the content with format of json data{template_format}.Content should be unique and crisp and attractive. \n",
    "               should not use repeated & words return json data \"\"\")\n",
    "    "
   ]
  },
  {
   "cell_type": "code",
   "execution_count": 213,
   "metadata": {},
   "outputs": [
    {
     "name": "stdout",
     "output_type": "stream",
     "text": [
      "\n",
      "{\n",
      "  \"meta_title\": \"About XYZ Consulting LLC\",\n",
      "  \"meta_description\": \"Learn more about John, a freelance healthcare writer with nearly five decades of experience in the industry. Get insights into his background in administration, critical care, and research and his passion for leveraging his expertise to craft compelling healthcare content.\",\n",
      "  \"h1_title\": \"Meet John, Your Go-To Freelance Healthcare Writer\",\n",
      "  \"h1_content\": \"Get to know John, a Registered Nurse with a wealth of experience in healthcare. With a diverse background in administration, critical care, and research, John brings a unique perspective to freelance healthcare writing.\",\n",
      "  \"h2_title\": \"Experience and Expertise in Healthcare Writing\",\n",
      "  \"h2_content\": \"Explore case studies of John's work in healthcare writing. From distilling complex medical concepts to creating engaging content for healthcare brands, John's dedication to advancing healthcare through the power of words is evident in his work.\",\n",
      "  \"leading_sentence\": \"Discover the story of John, a passionate freelance healthcare writer with a strong commitment to driving positive change in the healthcare industry through high-quality content.\"\n",
      "}\n"
     ]
    }
   ],
   "source": [
    "chain = LLMChain(prompt=prompt, llm=model)\n",
    "result = chain.run(about=about,template_format=template_format,response_format=response_format)\n",
    "print(result)"
   ]
  },
  {
   "cell_type": "code",
   "execution_count": null,
   "metadata": {},
   "outputs": [],
   "source": []
  },
  {
   "cell_type": "code",
   "execution_count": null,
   "metadata": {},
   "outputs": [],
   "source": []
  },
  {
   "cell_type": "code",
   "execution_count": null,
   "metadata": {},
   "outputs": [],
   "source": []
  },
  {
   "cell_type": "code",
   "execution_count": 160,
   "metadata": {},
   "outputs": [],
   "source": [
    "template_format=\"\"\"\n",
    "            {about}\n",
    "            Json file should contain\n",
    "            ##########################\n",
    "            resonse json\n",
    "            ##########################\n",
    "            meta_title: select company name from input - provoide suitable title based on input\n",
    "            meta_description: journey of the person and mention  company name where he worked. provide services based on the input(70-150) words)\n",
    "            h1_title: Title should be unique and intract when the user see (10-40 words)\n",
    "            h1_content: Suitable content based on the above input(60-100 words)\n",
    "            h2_title:  Title should be unique and intract when the user see (Explore case studies)based on the above input (10-40 words)\n",
    "            h2_content: Suitable content based on the above input and Explore case studies (60-100 words)\n",
    "            leading_sentence: \n",
    "\n",
    "\"\"\"\n",
    "\n",
    "\n",
    "prompt = PromptTemplate(\n",
    "    input_variables=[\"template_format\"],\n",
    "    template=f\"\"\" Provide the content with format of json data{template_format}.Content should be unique and crisp and attractive. \n",
    "               should not use repeated & words return json data \"\"\")\n",
    "    "
   ]
  },
  {
   "cell_type": "code",
   "execution_count": 161,
   "metadata": {},
   "outputs": [
    {
     "data": {
      "text/plain": [
       "PromptTemplate(input_variables=['about'], template=' Provide the content with format of json data\\n            {about}\\n            Json file should contain\\n            ##########################\\n            resonse json\\n            ##########################\\n            meta_title: select company name from input - provoide suitable title based on input\\n            meta_description: journey of the person and mention  company name where he worked. provide services based on the input(70-150) words)\\n            h1_title: Title should be unique and intract when the user see (10-40 words)\\n            h1_content: Suitable content based on the above input(60-100 words)\\n            h2_title:  Title should be unique and intract when the user see (Explore case studies)based on the above input (10-40 words)\\n            h2_content: Suitable content based on the above input and Explore case studies (60-100 words)\\n            leading_sentence: \\n\\n.Content should be unique and crisp and attractive. \\n               should not use repeated & words return json data ')"
      ]
     },
     "execution_count": 161,
     "metadata": {},
     "output_type": "execute_result"
    }
   ],
   "source": [
    "prompt"
   ]
  },
  {
   "cell_type": "code",
   "execution_count": 164,
   "metadata": {},
   "outputs": [
    {
     "name": "stdout",
     "output_type": "stream",
     "text": [
      "\n",
      "\n",
      "{\n",
      "    \"meta_title\": \"Discover the Journey of John, Freelance Healthcare Writer at XYZ Consulting LLC\",\n",
      "    \"meta_description\": \"Learn about the journey of John, a dedicated Registered Nurse with nearly five decades of experience, as he brings his expertise to freelance healthcare writing at XYZ Consulting LLC. Explore the services offered by John and how his diverse background in healthcare has shaped his understanding of the industry.\",\n",
      "    \"h1_title\": \"Meet John: A Dedicated Freelance Healthcare Writer at XYZ Consulting LLC\",\n",
      "    \"h1_content\": \"With almost 50 years of experience as a Registered Nurse, John brings a wealth of expertise to the world of freelance healthcare writing. Learn about his journey and how his diverse experiences in Administration, Critical Care, and Research have shaped his understanding of the intricacies of the healthcare industry.\",\n",
      "    \"h2_title\": \"Explore Case Studies: How John's Research and Collaboration Drive Positive Outcomes in Healthcare\",\n",
      "    \"h2_content\": \"Discover how John's involvement in research within Critical Care has led to co-authored publications in esteemed medical and surgical journals worldwide. Learn how he fosters collaborative relationships and facilitates interdisciplinary communication as a liaison to Physicians and Chief of Medicine, driving positive outcomes and fostering a culture of excellence.\",\n",
      "    \"leading_sentence\n"
     ]
    }
   ],
   "source": [
    "# Create  chain and runn\n",
    "\n",
    "chain = LLMChain(prompt=prompt, llm=model)\n",
    "result = chain.run(about=about,template_format=template_format)\n",
    "print(result)\n",
    "# print(type(result))\n",
    "# print(type(result['page_data']))"
   ]
  },
  {
   "cell_type": "code",
   "execution_count": 65,
   "metadata": {},
   "outputs": [],
   "source": [
    "about_data=json.loads(result)"
   ]
  },
  {
   "cell_type": "code",
   "execution_count": 66,
   "metadata": {},
   "outputs": [
    {
     "data": {
      "text/plain": [
       "dict"
      ]
     },
     "execution_count": 66,
     "metadata": {},
     "output_type": "execute_result"
    }
   ],
   "source": [
    "type(about_data)"
   ]
  },
  {
   "cell_type": "code",
   "execution_count": 71,
   "metadata": {},
   "outputs": [],
   "source": [
    "about={\"company_name\":business_info['businessName']}"
   ]
  },
  {
   "cell_type": "code",
   "execution_count": 77,
   "metadata": {},
   "outputs": [],
   "source": [
    "about['company_name']=business_info['businessName']"
   ]
  },
  {
   "cell_type": "code",
   "execution_count": 78,
   "metadata": {},
   "outputs": [
    {
     "data": {
      "text/plain": [
       "{'title': 'About',\n",
       " 'copyService': 'newCopy',\n",
       " 'page_type': 'edit',\n",
       " 'seo_keywords': ['primary keyword: healthcare writer',\n",
       "  'secondary keyword: freelance nursing'],\n",
       " 'content': \"<p>About Meet John, Freelance Healthcare Writer With nearly five decades of dedicated service as a Registered Nurse, I bring a wealth of experience and expertise to the world of freelance healthcare writing. While I may be relatively new to the freelance arena, my journey in healthcare has been one of continual learning, growth, and innovation. Throughout my career, I have held pivotal roles in Administration, Critical Care, and Research within the healthcare landscape. From managing complex healthcare systems to providing frontline critical care to patients in need, my diverse experiences have shaped my understanding of the intricacies of the healthcare industry. One of the highlights of my career has been my extensive involvement in research within Critical Care. This involvement has led to numerous co-authored Abstracts, Editorials, and Manuscript publications in esteemed medical and surgical journals worldwide. Additionally, I have had the privilege of presenting my research findings at prestigious Critical Care Symposiums, contributing to the ongoing dialogue and advancement within the field. As a liaison to Physicians and serving as Chief of Medicine, I have fostered collaborative relationships and facilitated interdisciplinary communication to ensure the highest standards of patient care. My dedication to bridging gaps between healthcare professionals has been instrumental in driving positive outcomes and fostering a culture of excellence. Now, as a freelance healthcare writer, I am passionate about leveraging my wealth of knowledge and expertise to craft compelling, insightful content that educates, informs, and inspires. Whether it's distilling complex medical concepts into accessible articles, providing evidence-based insights for healthcare publications, or creating engaging content for healthcare brands, I am committed to delivering content of the highest caliber. With a deep-rooted commitment to advancing healthcare through the power of words, I am excited to collaborate with clients who share a vision for driving positive change within the healthcare industry. Let's embark on a journey of discovery, learning, and innovation together.</p>\",\n",
       " 'pointOfView': '',\n",
       " 'notes': '',\n",
       " 'conveyMessages': '',\n",
       " 'conveyanceOther': '',\n",
       " 'customerAction': '',\n",
       " 'copyRequestDescription': '',\n",
       " 'company_name': 'XYZ CONSULTING LLC'}"
      ]
     },
     "execution_count": 78,
     "metadata": {},
     "output_type": "execute_result"
    }
   ],
   "source": [
    "about"
   ]
  },
  {
   "cell_type": "code",
   "execution_count": 69,
   "metadata": {},
   "outputs": [
    {
     "data": {
      "text/plain": [
       "{'businessName': 'XYZ CONSULTING LLC',\n",
       " 'Country': 'US',\n",
       " 'product_type': 'non-care',\n",
       " 'business_info': \"domain: \\nhasTagline: \\ndescription: freelace writing and healthcare \\ntimeInBusiness: \\nbusinessTypeName: Consulting \\nbizWaysOnline: \\nlocalAreas: Eastern and Central Confetti , USA \\nkeyTerms: provide publications \\ngoal: other \\ngoalDescription: \\ntargetAudience: \\nbizEmails: \\nBusiness Hours: No, don't show my hours \\nshowBizHours: Sunday: closed Monday: 08:00 - 18:00 Tuesday: 08:00 - 18:00 Wednesday: 08:00 - 18:00 Thursday: 08:00 - 18:00 Friday: 08:00 - 18:00 Saturday: 08:00 - 18:00 \\nphone: \\nshowBizFullAddress: yes \\ncountry_region: US \\naddress1: 195 Owen Street, Prestonsdurg \\ncity: Kentucky \\nstate: \\npostalCode: 41653 \\nhasCompetitors: \\n\"}"
      ]
     },
     "execution_count": 69,
     "metadata": {},
     "output_type": "execute_result"
    }
   ],
   "source": [
    "business_info"
   ]
  },
  {
   "cell_type": "code",
   "execution_count": null,
   "metadata": {},
   "outputs": [],
   "source": []
  },
  {
   "cell_type": "code",
   "execution_count": 25,
   "metadata": {},
   "outputs": [],
   "source": [
    "import json\n",
    "import os\n",
    "import openai\n",
    "from dotenv import load_dotenv\n",
    "load_dotenv()\n",
    "\n",
    "key=os.getenv('OPENAI_API_KEY')\n",
    "\n",
    "# Set your OpenAI API key\n",
    "api_key = key\n",
    "\n",
    "    # Configure the API key\n",
    "openai.api_key = api_key\n",
    "def generate_page_content(page_data, business_data):\n",
    " \n",
    "  response=None\n",
    "  page_content = {}\n",
    "  if page_data[\"page_type\"] == \"edit\" and page_data[\"copyService\"] == \"newCopy\":\n",
    "    # Use a language model (LLM) or other content generation method to \n",
    "    # create new content based on page_data and business_data. \n",
    "    # Here's a simple example using placeholder text:\n",
    "    if page_data['title'] == \"Home\":\n",
    "           \n",
    "          prompt=f\"\"\"\n",
    "            \n",
    "            Provoide the content with json data.Content should be unique and crisp and attractive.\n",
    "            if customerAction is not avaible then create unique customerAction fill that. \n",
    "            sample format data same thing you have to generate\n",
    "            meta_title : Provoide unique title less than 30 words {page_data['seo_keywords']} - {business_data['businessName']}\n",
    "            meta_description : Provoide description about more unique attractive  (70 to 143 Characters) {business_data['businessName']} insights with {business_data['businessName']}, US. Embark on your {page_data['seo_keywords']} journey today.\n",
    "            Explore Publications.\n",
    "            hero_title : provoide unique title based on the keyword title should (20 to 70 Characters)\n",
    "            hero_text : provoide text based on the content words should not repeative(50 to 100 Characters) {page_data['content']} and Bridging {page_data['seo_keywords']} literacy gaps with expertly crafted articles\n",
    "            CTA Button: Get In Touch (Button to Contact Page)\n",
    "            h1_title: Unique  Enhancing title with (40 to 60 Characters) based on the  {page_data['seo_keywords']} in the US\n",
    "            h1_content: {page_data['content']} \n",
    "            h2_title : Explore Case Studies\n",
    "            h2_content:  Provoide content with {page_data['content']} with more than 60 words\n",
    "            leading_sentence: Embark on an intellectual journey through compelling case studies and in {page_data['content']}\n",
    "            depth analysis with a treasure trove of healthcare knowledge right at your fingertips{page_data['content']} to generate.\n",
    "            \n",
    "            Note : If anything HTML Content tag is there remove it and should give the proper content\n",
    "            ###########################################\n",
    "            Json format output\n",
    "\n",
    "\n",
    "          \"\"\"\n",
    "    \n",
    "\n",
    "          # Use the completion.create() method to generate text\n",
    "          response = openai.Completion.create(\n",
    "              engine=\"gpt-3.5-turbo-instruct\",\n",
    "              prompt=f\"generate new content based on the prompt {prompt}\",\n",
    "              max_tokens=1000,\n",
    "              temperature=0.7,\n",
    "              top_p=0.9,\n",
    "              frequency_penalty=0.5,\n",
    "              presence_penalty=0.5\n",
    "              )\n",
    "\n",
    "          # Print the generated text\n",
    "          #print(\n",
    "          response=response.choices[0].text.strip()\n",
    "          print(response)\n",
    "          generate_data=json.loads(response)\n",
    "          print(generate_data)\n",
    "          page_content[\"meta_title\"] = f\"{generate_data['meta_title']} - {business_data['businessName']}\"\n",
    "          page_content[\"meta_description\"] = f\"{generate_data['meta_description']}\"\n",
    "          page_content[\"hero_title\"] = f\"{generate_data['hero_title']}\"\n",
    "          page_content[\"hero_text\"] = f\" {generate_data['hero_text']}\"\n",
    "          if page_data['customerAction']==\"\":\n",
    "             page_content[\"customerAction\"] =\"readMore\"\n",
    "          page_content[\"customerAction\"] =f\"{page_data['customerAction']}\"\n",
    "                   \n",
    "          page_content[\"h1\"] = f\"{generate_data['h1_title']} \"\n",
    "          page_content[\"h1_content\"] = f\"{generate_data['h1_content']}\"\n",
    "          page_content[\"h2\"] = f\"{generate_data['h2_title']}\"\n",
    "          page_content[\"h2_content\"] =f\"{generate_data['h2_content']}\"\n",
    "          page_content[\"leading_sentence\"] = f\"{generate_data['leading_sentence']}\"\n",
    "\n",
    "          # Replace this placeholder content with your actual content generation logic using an LLM\n",
    "          # page_content = generate_content_using_llm(page_data, business_data) \n",
    "\n",
    "  elif page_data[\"page_type\"] == \"view\" and page_data[\"copyService\"] == \"\":\n",
    "    page_content = {\n",
    "      \"content\": page_data[\"content\"]\n",
    "    }\n",
    "\n",
    "  return page_content\n",
    "\n",
    "def dict_content(company_data):\n",
    "    \"\"\"\n",
    "    Extracts page data and business information from the provided dictionary.\n",
    "    \n",
    "    Args:\n",
    "        company_data: A dictionary containing company information, including pages and business details.\n",
    "\n",
    "    Returns:\n",
    "        A list containing dictionaries for each page, and the business information.\n",
    "    \"\"\"\n",
    "\n",
    "    home = dict(company_data['pages'][0])\n",
    "    about = dict(company_data['pages'][1])\n",
    "    publications = dict(company_data['pages'][2])\n",
    "    contacts = dict(company_data['pages'][3])\n",
    "\n",
    "    company_info = {\n",
    "        \"businessName\": company_data[\"businessName\"],\n",
    "        \"Country\": company_data[\"Country\"],\n",
    "        \"product_type\": company_data[\"product_type\"],\n",
    "        \"business_info\": company_data[\"business_info\"]\n",
    "    }\n",
    "\n",
    "    final_data = [home, about, publications, contacts]\n",
    "    return final_data, company_info\n",
    "\n",
    "\n",
    "\n",
    "page_data, business_data = dict_content(data)\n",
    "\n",
    "\n"
   ]
  },
  {
   "cell_type": "code",
   "execution_count": 27,
   "metadata": {},
   "outputs": [
    {
     "name": "stdout",
     "output_type": "stream",
     "text": [
      "{\n",
      "    \"meta_title\": \"Boost Your Healthcare Knowledge with XYZ CONSULTING LLC\",\n",
      "    \"meta_description\": \"Deepen your healthcare knowledge and cultivate your freelance writing skills with XYZ CONSULTING LLC, US. Explore a variety of publications on this topic today.\",\n",
      "    \"hero_title\": \"Become an Expert on Healthcare Knowledge\",\n",
      "    \"hero_text\": \"<p>Enhancing the knowledge of healthcare for all – one article at a time.</p><p>MISSION<br>To provide those in the Healthcare Community with current, up-to-date, trending medical and surgical information.<br>To help enhance the healthcare knowledge of the general population to afford self-advocating for a healthier lifestyle.</p><p>While relatively new to the freelance arena, I have been a Registered Nurse for the past 49 years. I have vast experience in Administration, Critical Care and Research in Critical Care. My Research experience has afforded me countless co-authored Abstract, Editorial and Manuscript publications in major medical and surgical journals internationally, as well as presentations at Critical Care Symposiums. Liaison to Physician and Chief of Medicine.</p><p>Bridging your healthcare literacy gaps with expertly crafted articles.</p>\",\n",
      "    \"CTA Button\": \"Get In Touch\",\n",
      "    \"h1_title\": \"Enhance Your Healthcare Knowledge Today\",\n",
      "    \"h1_content\": \"<p>Boosting your knowledge on healthcare for all – one article at a time.</p><p>MISSION<br>To provide those in the Healthcare Community with current, up-to-date, trending medical and surgical information.<br>To help enhance the healthcare knowledge of the general population to afford self-advocating for a healthier lifestyle.</p><p>While relatively new to the freelance arena, I have been a Registered Nurse for the past 49 years. I have vast experience in Administration, Critical Care and Research in Critical Care. My Research experience has afforded me countless co-authored Abstract, Editorial and Manuscript publications in major medical and surgical journals internationally, as well as presentations at Critical Care Symposiums. Liaison to Physician and Chief of Medicine.</p>\",\n",
      "    \"h2_title\": \"Explore Case Studies\",\n",
      "    \"h2_content\": \"<p>Embark on an intellectual journey through compelling case studies.</p><p>Enhancing the knowledge of healthcare for all – one article at a time.</p><p>MISSION<br>To provide those in the Healthcare Community with current, up-to-date, trending medical and surgical information.<br>To help enhance the healthcare knowledge of the general population to afford self-advocating for a healthier lifestyle.</p><p>While relatively new to the freelance arena, I have been a Registered Nurse for the past 49 years. I have vast experience in Administration, Critical Care and Research in Critical Care. My Research experience has afforded me countless co-authored Abstract, Editorial and Manuscript publications in major medical and surgical journals internationally, as well as presentations at Critical Care Symposiums. Liaison to Physician and Chief of Medicine.</p>\",\n",
      "    \"leading_sentence\": \"<p>Deepen your understanding of healthcare with our comprehensive analysis and treasure trove of knowledge at your fingertips.</p><p>Enhancing the knowledge of healthcare for all – one article at a time.</p><p>MISSION<br>To provide those in the Healthcare Community with current, up-to-date, trending medical and surgical information.<br>To help enhance the healthcare knowledge of the general population to afford self-advocating for a healthier lifestyle.</p><p>While relatively new to the freelance arena, I have been a Registered Nurse for the past 49 years. I have vast experience in Administration, Critical Care and Research in Critical Care. My Research experience has afforded me countless co-authored Abstract, Editorial and Manuscript publications in major medical and surgical journals internationally, as well as presentations at Critical Care Symposiums. Liaison to Physician and Chief of Medicine.</p><p>Join us on this journey today!</p>\"\n",
      "}\n",
      "{'meta_title': 'Boost Your Healthcare Knowledge with XYZ CONSULTING LLC', 'meta_description': 'Deepen your healthcare knowledge and cultivate your freelance writing skills with XYZ CONSULTING LLC, US. Explore a variety of publications on this topic today.', 'hero_title': 'Become an Expert on Healthcare Knowledge', 'hero_text': '<p>Enhancing the knowledge of healthcare for all – one article at a time.</p><p>MISSION<br>To provide those in the Healthcare Community with current, up-to-date, trending medical and surgical information.<br>To help enhance the healthcare knowledge of the general population to afford self-advocating for a healthier lifestyle.</p><p>While relatively new to the freelance arena, I have been a Registered Nurse for the past 49 years. I have vast experience in Administration, Critical Care and Research in Critical Care. My Research experience has afforded me countless co-authored Abstract, Editorial and Manuscript publications in major medical and surgical journals internationally, as well as presentations at Critical Care Symposiums. Liaison to Physician and Chief of Medicine.</p><p>Bridging your healthcare literacy gaps with expertly crafted articles.</p>', 'CTA Button': 'Get In Touch', 'h1_title': 'Enhance Your Healthcare Knowledge Today', 'h1_content': '<p>Boosting your knowledge on healthcare for all – one article at a time.</p><p>MISSION<br>To provide those in the Healthcare Community with current, up-to-date, trending medical and surgical information.<br>To help enhance the healthcare knowledge of the general population to afford self-advocating for a healthier lifestyle.</p><p>While relatively new to the freelance arena, I have been a Registered Nurse for the past 49 years. I have vast experience in Administration, Critical Care and Research in Critical Care. My Research experience has afforded me countless co-authored Abstract, Editorial and Manuscript publications in major medical and surgical journals internationally, as well as presentations at Critical Care Symposiums. Liaison to Physician and Chief of Medicine.</p>', 'h2_title': 'Explore Case Studies', 'h2_content': '<p>Embark on an intellectual journey through compelling case studies.</p><p>Enhancing the knowledge of healthcare for all – one article at a time.</p><p>MISSION<br>To provide those in the Healthcare Community with current, up-to-date, trending medical and surgical information.<br>To help enhance the healthcare knowledge of the general population to afford self-advocating for a healthier lifestyle.</p><p>While relatively new to the freelance arena, I have been a Registered Nurse for the past 49 years. I have vast experience in Administration, Critical Care and Research in Critical Care. My Research experience has afforded me countless co-authored Abstract, Editorial and Manuscript publications in major medical and surgical journals internationally, as well as presentations at Critical Care Symposiums. Liaison to Physician and Chief of Medicine.</p>', 'leading_sentence': '<p>Deepen your understanding of healthcare with our comprehensive analysis and treasure trove of knowledge at your fingertips.</p><p>Enhancing the knowledge of healthcare for all – one article at a time.</p><p>MISSION<br>To provide those in the Healthcare Community with current, up-to-date, trending medical and surgical information.<br>To help enhance the healthcare knowledge of the general population to afford self-advocating for a healthier lifestyle.</p><p>While relatively new to the freelance arena, I have been a Registered Nurse for the past 49 years. I have vast experience in Administration, Critical Care and Research in Critical Care. My Research experience has afforded me countless co-authored Abstract, Editorial and Manuscript publications in major medical and surgical journals internationally, as well as presentations at Critical Care Symposiums. Liaison to Physician and Chief of Medicine.</p><p>Join us on this journey today!</p>'}\n"
     ]
    },
    {
     "data": {
      "text/plain": [
       "[{'meta_title': 'Boost Your Healthcare Knowledge with XYZ CONSULTING LLC - XYZ CONSULTING LLC',\n",
       "  'meta_description': 'Deepen your healthcare knowledge and cultivate your freelance writing skills with XYZ CONSULTING LLC, US. Explore a variety of publications on this topic today.',\n",
       "  'hero_title': 'Become an Expert on Healthcare Knowledge',\n",
       "  'hero_text': ' <p>Enhancing the knowledge of healthcare for all – one article at a time.</p><p>MISSION<br>To provide those in the Healthcare Community with current, up-to-date, trending medical and surgical information.<br>To help enhance the healthcare knowledge of the general population to afford self-advocating for a healthier lifestyle.</p><p>While relatively new to the freelance arena, I have been a Registered Nurse for the past 49 years. I have vast experience in Administration, Critical Care and Research in Critical Care. My Research experience has afforded me countless co-authored Abstract, Editorial and Manuscript publications in major medical and surgical journals internationally, as well as presentations at Critical Care Symposiums. Liaison to Physician and Chief of Medicine.</p><p>Bridging your healthcare literacy gaps with expertly crafted articles.</p>',\n",
       "  'customerAction': 'Focus on content',\n",
       "  'h1': 'Enhance Your Healthcare Knowledge Today ',\n",
       "  'h1_content': '<p>Boosting your knowledge on healthcare for all – one article at a time.</p><p>MISSION<br>To provide those in the Healthcare Community with current, up-to-date, trending medical and surgical information.<br>To help enhance the healthcare knowledge of the general population to afford self-advocating for a healthier lifestyle.</p><p>While relatively new to the freelance arena, I have been a Registered Nurse for the past 49 years. I have vast experience in Administration, Critical Care and Research in Critical Care. My Research experience has afforded me countless co-authored Abstract, Editorial and Manuscript publications in major medical and surgical journals internationally, as well as presentations at Critical Care Symposiums. Liaison to Physician and Chief of Medicine.</p>',\n",
       "  'h2': 'Explore Case Studies',\n",
       "  'h2_content': '<p>Embark on an intellectual journey through compelling case studies.</p><p>Enhancing the knowledge of healthcare for all – one article at a time.</p><p>MISSION<br>To provide those in the Healthcare Community with current, up-to-date, trending medical and surgical information.<br>To help enhance the healthcare knowledge of the general population to afford self-advocating for a healthier lifestyle.</p><p>While relatively new to the freelance arena, I have been a Registered Nurse for the past 49 years. I have vast experience in Administration, Critical Care and Research in Critical Care. My Research experience has afforded me countless co-authored Abstract, Editorial and Manuscript publications in major medical and surgical journals internationally, as well as presentations at Critical Care Symposiums. Liaison to Physician and Chief of Medicine.</p>',\n",
       "  'leading_sentence': '<p>Deepen your understanding of healthcare with our comprehensive analysis and treasure trove of knowledge at your fingertips.</p><p>Enhancing the knowledge of healthcare for all – one article at a time.</p><p>MISSION<br>To provide those in the Healthcare Community with current, up-to-date, trending medical and surgical information.<br>To help enhance the healthcare knowledge of the general population to afford self-advocating for a healthier lifestyle.</p><p>While relatively new to the freelance arena, I have been a Registered Nurse for the past 49 years. I have vast experience in Administration, Critical Care and Research in Critical Care. My Research experience has afforded me countless co-authored Abstract, Editorial and Manuscript publications in major medical and surgical journals internationally, as well as presentations at Critical Care Symposiums. Liaison to Physician and Chief of Medicine.</p><p>Join us on this journey today!</p>'}]"
      ]
     },
     "execution_count": 27,
     "metadata": {},
     "output_type": "execute_result"
    }
   ],
   "source": [
    "\n",
    "data=[generate_page_content(page_data[0],business_data)]\n",
    "data"
   ]
  },
  {
   "cell_type": "code",
   "execution_count": null,
   "metadata": {},
   "outputs": [],
   "source": []
  },
  {
   "cell_type": "code",
   "execution_count": 99,
   "metadata": {},
   "outputs": [],
   "source": [
    "# Prompt Template\n",
    "import os\n",
    "from dotenv import load_dotenv\n",
    "from langchain.chains import LLMChain\n",
    "from langchain.llms import OpenAI\n",
    "from langchain.prompts import PromptTemplate\n",
    "load_dotenv()\n",
    "\n",
    "key=os.getenv(\"OPENAI_API_KEY\")\n",
    "model=OpenAI(api_key=key)\n",
    "\n",
    "# load data\n",
    "medical_info,business_info=dict_content(data)\n",
    "\n",
    "home=medical_info[0]\n"
   ]
  },
  {
   "cell_type": "code",
   "execution_count": 102,
   "metadata": {},
   "outputs": [
    {
     "data": {
      "text/plain": [
       "{'title': 'Home',\n",
       " 'copyService': 'newCopy',\n",
       " 'page_type': 'edit',\n",
       " 'seo_keywords': ['primary keyword: healthcare knowledge',\n",
       "  'secondary keyword: freelance writing'],\n",
       " 'content': '<p>Enhancing the knowledge of healthcare for all – one article at a time.</p><p>MISSION<br>To provide those in the Healthcare Community with current, up-to-date, trending medical and surgical information.<br>To help enhance the healthcare knowledge of the general population to afford self-advocating for a healthier lifestyle.</p><p>While relatively new to the freelance arena, I have been a Registered Nurse for the past 49 years. I have vast experience in Administration, Critical Care and Research in Critical Care. My Research experience has afforded me countless co-authored Abstract, Editorial and Manuscript publications in major medical and surgical journals internationally, as well as presentations at Critical Care Symposiums. Liaison to Physician and Chief of Medicine.</p>',\n",
       " 'pointOfView': 'first',\n",
       " 'notes': '<p>Tagline: Enhancing the knowledge of healthcare for all – one article at a time.</p>',\n",
       " 'conveyMessages': '',\n",
       " 'conveyanceOther': '',\n",
       " 'customerAction': 'Focus on content',\n",
       " 'copyRequestDescription': 'a',\n",
       " 'CompanyName': 'XYZ CONSULTING LLC'}"
      ]
     },
     "execution_count": 102,
     "metadata": {},
     "output_type": "execute_result"
    }
   ],
   "source": [
    "home[\"CompanyName\"]=business_info['businessName']\n",
    "home"
   ]
  },
  {
   "cell_type": "code",
   "execution_count": 182,
   "metadata": {},
   "outputs": [],
   "source": [
    "response_json={\n",
    "    \"meta_title\":\"Provoide suitable unique title based on the input keywords - select company name\",\n",
    "    \"meta_description\":\"70 -provide excellent meta description based on the input data with company name (70- 100)  words\",\n",
    "    \"h1_title\":\"Provoide suitable unique H1 based on the main achieve (theme)of input (20 -25 word)\",\n",
    "    \"h1_content\":\"Provide detailed description about based on the Input (70- 100) words\",\n",
    "    \"leading_sentence\":\"provoide leading sentence based on the input data (70- 100) words\",\n",
    "    \"hero_title\":\"provoide main objective title based on the input\",\n",
    "    \"hero_text\":\"based on the here title generate unique content and attractive response input(50-60) words)\",\n",
    "    \"h2_title\":\"Exposore of the content title when the user see (10-25 words)\",\n",
    "    \"h2_content\":\"generate content based on the input content h2 title and hero title and hero text (60-100 words)\",\n",
    "    \"leading_sentence\":\"provoide leading sentece based on the hero input with (40-60) words\"  \n",
    "}\n",
    "template_format=\"\"\"\n",
    "            You are the expertise of content generation.here i have given  the information following that have to create response in json format\n",
    "            {home}\n",
    "            Response should contain json\n",
    "            ##########################\n",
    "            {response_json}\n",
    "            \n",
    "            \n",
    "            Rules:\n",
    "            1 .Content,Title should not be repeated   \n",
    "            2. Dont use same content again and again\n",
    "            3. Use common words\n",
    "            3. content should be very unique and informative user attention\n",
    "            \n",
    "            ################################\n",
    "            Return above formate json data\n",
    "\n",
    "            \"\"\"\n",
    "          \n",
    "\n",
    "            \n",
    "prompt = PromptTemplate(\n",
    "    input_variables=[\"template_format\",\"response_json\"],\n",
    "    template=template_format)\n",
    "\n",
    "\n",
    "\n"
   ]
  },
  {
   "cell_type": "code",
   "execution_count": 183,
   "metadata": {},
   "outputs": [],
   "source": [
    "# Create  chain and runn\n",
    "\n",
    "chain = LLMChain(llm=model,prompt=prompt)\n",
    "response = chain.run(home=home,template_format=template_format,response_json=response_json)"
   ]
  },
  {
   "cell_type": "code",
   "execution_count": 184,
   "metadata": {},
   "outputs": [
    {
     "name": "stdout",
     "output_type": "stream",
     "text": [
      "\n",
      "{\n",
      "    \"meta_title\": \"Enhancing Healthcare Knowledge - XYZ CONSULTING LLC\",\n",
      "    \"meta_description\": \"Enhancing healthcare knowledge for all - one article at a time. Find current, up-to-date, trending medical and surgical information for a healthier lifestyle. Read articles by a Registered Nurse with 49 years of experience. XYZ CONSULTING LLC\",\n",
      "    \"h1_title\": \"Boost Your Healthcare Knowledge with XYZ CONSULTING LLC\",\n",
      "    \"h1_content\": \"XYZ CONSULTING LLC offers current, up-to-date, trending medical and surgical information. Our mission is to enhance the healthcare knowledge of the general population and provide self-advocacy for a healthier lifestyle.\",\n",
      "    \"leading_sentence\": \"XYZ CONSULTING LLC is dedicated to enhancing healthcare knowledge for all - one article at a time.\",\n",
      "    \"hero_title\": \"Enhancing Healthcare Knowledge with XYZ CONSULTING LLC\",\n",
      "    \"hero_text\": \"Take your healthcare knowledge to the next level with XYZ CONSULTING LLC. Our team of experts offers articles on current, up-to-date, trending medical and surgical information. Keep yourself informed and advocate for a healthier lifestyle.\",\n",
      "    \"h2_title\": \"Exposure to Quality Healthcare Content\",\n",
      "    \"h2_content\": \"At\n"
     ]
    }
   ],
   "source": [
    "\n",
    "#res=json.loads(response)\n",
    "print(response)"
   ]
  },
  {
   "cell_type": "code",
   "execution_count": null,
   "metadata": {},
   "outputs": [],
   "source": []
  },
  {
   "cell_type": "code",
   "execution_count": null,
   "metadata": {},
   "outputs": [],
   "source": []
  },
  {
   "cell_type": "code",
   "execution_count": null,
   "metadata": {},
   "outputs": [],
   "source": []
  }
 ],
 "metadata": {
  "kernelspec": {
   "display_name": "Python 3",
   "language": "python",
   "name": "python3"
  },
  "language_info": {
   "codemirror_mode": {
    "name": "ipython",
    "version": 3
   },
   "file_extension": ".py",
   "mimetype": "text/x-python",
   "name": "python",
   "nbconvert_exporter": "python",
   "pygments_lexer": "ipython3",
   "version": "3.12.3"
  }
 },
 "nbformat": 4,
 "nbformat_minor": 2
}
